{
 "cells": [
  {
   "cell_type": "code",
   "execution_count": 181,
   "metadata": {},
   "outputs": [],
   "source": [
    "from bs4 import BeautifulSoup\n",
    "import urllib\n",
    "import requests\n",
    "import pandas as pd\n",
    "import seaborn as sns\n",
    "import numpy as np\n",
    "import matplotlib.pyplot as plt\n",
    "%matplotlib inline"
   ]
  },
  {
   "cell_type": "code",
   "execution_count": 182,
   "metadata": {},
   "outputs": [],
   "source": [
    "url = 'https://www.ebay.com/b/Other-Natural-Remedies/1279?Type=Ear%2520Candle%7CCandles%7CEssential%2520Oils%7CHerb%7CHerbal%2520Plaster%7CHerbs%7CHerbs%2520%2526%2520Resins%7CPendant%7CSalt%2520Pipe%7CSuppositories%7C%21%7CTea&rt=nc'\n",
    "source = requests.get(url)\n",
    "soup = BeautifulSoup(source.text, 'html.parser')\n",
    "main_content = soup.find('ul', attrs = {'class':'b-list__items_nofooter srp-results srp-grid'})\n",
    "items = main_content.find('div', attrs = {'class': 's-item__info clearfix'})"
   ]
  },
  {
   "cell_type": "code",
   "execution_count": 183,
   "metadata": {},
   "outputs": [],
   "source": [
    "product_list = []\n",
    "for i in range(1,144):\n",
    "    source = requests.get('https://www.ebay.com/b/Other-Natural-Remedies/1279?Type=Ear%2520Candle%7CCandles%7CEssential%2520Oils%7CHerb%7CHerbal%2520Plaster%7CHerbs%7CHerbs%2520%2526%2520Resins%7CPendant%7CSalt%2520Pipe%7CSuppositories%7C%21%7CTea&rt=nc&_pgn={i}')\n",
    "    for i in main_content.find_all('div', attrs = {'class': 's-item__info clearfix'}):\n",
    "        product = i.find('h3', attrs={'class':'s-item__title'}).text.strip()\n",
    "        info = i.find('span', attrs={'class': 's-item__price'}).text.strip()\n",
    "        try:\n",
    "            sold = i.find('span', attrs={'class':'NEGATIVE'}).text.strip()\n",
    "        except:\n",
    "            sold = 'none sold'\n",
    "        products = {\n",
    "            'product': product,\n",
    "            'info': info,\n",
    "            'amount sold': sold\n",
    "        }\n",
    "        \n",
    "        product_list.append(products)"
   ]
  },
  {
   "cell_type": "code",
   "execution_count": 188,
   "metadata": {},
   "outputs": [],
   "source": [
    "df = pd.DataFrame(product_list)"
   ]
  },
  {
   "cell_type": "code",
   "execution_count": 189,
   "metadata": {},
   "outputs": [
    {
     "data": {
      "text/plain": [
       "6864"
      ]
     },
     "execution_count": 189,
     "metadata": {},
     "output_type": "execute_result"
    }
   ],
   "source": [
    "len(df)"
   ]
  },
  {
   "cell_type": "code",
   "execution_count": 190,
   "metadata": {},
   "outputs": [],
   "source": [
    "df.to_csv('ebay_product_analysis.csv')"
   ]
  },
  {
   "cell_type": "code",
   "execution_count": 205,
   "metadata": {},
   "outputs": [
    {
     "data": {
      "text/html": [
       "<div>\n",
       "<style scoped>\n",
       "    .dataframe tbody tr th:only-of-type {\n",
       "        vertical-align: middle;\n",
       "    }\n",
       "\n",
       "    .dataframe tbody tr th {\n",
       "        vertical-align: top;\n",
       "    }\n",
       "\n",
       "    .dataframe thead th {\n",
       "        text-align: right;\n",
       "    }\n",
       "</style>\n",
       "<table border=\"1\" class=\"dataframe\">\n",
       "  <thead>\n",
       "    <tr style=\"text-align: right;\">\n",
       "      <th></th>\n",
       "      <th>Unnamed: 0</th>\n",
       "      <th>product</th>\n",
       "      <th>info</th>\n",
       "      <th>amount sold</th>\n",
       "    </tr>\n",
       "  </thead>\n",
       "  <tbody>\n",
       "    <tr>\n",
       "      <th>0</th>\n",
       "      <td>0</td>\n",
       "      <td>Cinnamon Hemp Oil Drops for Pain Relief, Stres...</td>\n",
       "      <td>$16.47</td>\n",
       "      <td>2,510 sold</td>\n",
       "    </tr>\n",
       "    <tr>\n",
       "      <th>1</th>\n",
       "      <td>1</td>\n",
       "      <td>Rastarafi® Whole Leaf Irish Moss Sea Moss 1 lb...</td>\n",
       "      <td>$25.95</td>\n",
       "      <td>none sold</td>\n",
       "    </tr>\n",
       "    <tr>\n",
       "      <th>2</th>\n",
       "      <td>2</td>\n",
       "      <td>EMPTY VEGETARIAN VEGI CELLULOSE  CAPSULES - SI...</td>\n",
       "      <td>$4.99 to $13.99</td>\n",
       "      <td>1,071 sold</td>\n",
       "    </tr>\n",
       "    <tr>\n",
       "      <th>3</th>\n",
       "      <td>3</td>\n",
       "      <td>EMPTY GELATIN CAPSULES SIZE 00 BULK Gel Caps P...</td>\n",
       "      <td>$6.19 to $84.00</td>\n",
       "      <td>2,372 sold</td>\n",
       "    </tr>\n",
       "    <tr>\n",
       "      <th>4</th>\n",
       "      <td>4</td>\n",
       "      <td>Pure Shilajit from Himalaya, Soft Resin, Extre...</td>\n",
       "      <td>$25.00</td>\n",
       "      <td>3,908 sold</td>\n",
       "    </tr>\n",
       "  </tbody>\n",
       "</table>\n",
       "</div>"
      ],
      "text/plain": [
       "   Unnamed: 0                                            product  \\\n",
       "0           0  Cinnamon Hemp Oil Drops for Pain Relief, Stres...   \n",
       "1           1  Rastarafi® Whole Leaf Irish Moss Sea Moss 1 lb...   \n",
       "2           2  EMPTY VEGETARIAN VEGI CELLULOSE  CAPSULES - SI...   \n",
       "3           3  EMPTY GELATIN CAPSULES SIZE 00 BULK Gel Caps P...   \n",
       "4           4  Pure Shilajit from Himalaya, Soft Resin, Extre...   \n",
       "\n",
       "              info amount sold  \n",
       "0           $16.47  2,510 sold  \n",
       "1           $25.95   none sold  \n",
       "2  $4.99 to $13.99  1,071 sold  \n",
       "3  $6.19 to $84.00  2,372 sold  \n",
       "4           $25.00  3,908 sold  "
      ]
     },
     "execution_count": 205,
     "metadata": {},
     "output_type": "execute_result"
    }
   ],
   "source": [
    "df = pd.read_csv('ebay_product_analysis.csv')\n",
    "df.head()"
   ]
  },
  {
   "cell_type": "code",
   "execution_count": 206,
   "metadata": {},
   "outputs": [
    {
     "name": "stdout",
     "output_type": "stream",
     "text": [
      "<class 'pandas.core.frame.DataFrame'>\n",
      "RangeIndex: 6864 entries, 0 to 6863\n",
      "Data columns (total 4 columns):\n",
      " #   Column       Non-Null Count  Dtype \n",
      "---  ------       --------------  ----- \n",
      " 0   Unnamed: 0   6864 non-null   int64 \n",
      " 1   product      6864 non-null   object\n",
      " 2   info         6864 non-null   object\n",
      " 3   amount sold  6864 non-null   object\n",
      "dtypes: int64(1), object(3)\n",
      "memory usage: 214.6+ KB\n"
     ]
    }
   ],
   "source": [
    "df.info()"
   ]
  },
  {
   "cell_type": "code",
   "execution_count": 207,
   "metadata": {},
   "outputs": [],
   "source": [
    "df.drop('Unnamed: 0', axis=1, inplace=True)"
   ]
  },
  {
   "cell_type": "code",
   "execution_count": 208,
   "metadata": {},
   "outputs": [],
   "source": [
    "df['info'] = df['info'].str.split('to')"
   ]
  },
  {
   "cell_type": "code",
   "execution_count": 212,
   "metadata": {},
   "outputs": [],
   "source": [
    "import string\n",
    "def punctuation_removal(text):\n",
    "    all_list = [char for char in text if char not in string.punctuation]\n",
    "    clean_str = ''.join(all_list)\n",
    "    return clean_str"
   ]
  },
  {
   "cell_type": "code",
   "execution_count": 213,
   "metadata": {},
   "outputs": [],
   "source": [
    "df['info'] = df['info'].apply(punctuation_removal)"
   ]
  },
  {
   "cell_type": "code",
   "execution_count": 214,
   "metadata": {},
   "outputs": [
    {
     "data": {
      "text/plain": [
       "0              1647\n",
       "1              2595\n",
       "2         499  1399\n",
       "3         619  8400\n",
       "4              2500\n",
       "           ...     \n",
       "6859    2995  13495\n",
       "6860           3499\n",
       "6861     1899  9999\n",
       "6862           1895\n",
       "6863           1999\n",
       "Name: info, Length: 6864, dtype: object"
      ]
     },
     "execution_count": 214,
     "metadata": {},
     "output_type": "execute_result"
    }
   ],
   "source": [
    "df['info']"
   ]
  },
  {
   "cell_type": "markdown",
   "metadata": {},
   "source": [
    "## Cleaning the amount sold feature"
   ]
  },
  {
   "cell_type": "code",
   "execution_count": 215,
   "metadata": {},
   "outputs": [],
   "source": [
    "df['amount sold'] = df['amount sold'].str.strip('sold')"
   ]
  },
  {
   "cell_type": "code",
   "execution_count": 216,
   "metadata": {},
   "outputs": [],
   "source": [
    "df['amount sold'] = df['amount sold'].str.replace('none', '0')"
   ]
  },
  {
   "cell_type": "code",
   "execution_count": 217,
   "metadata": {},
   "outputs": [],
   "source": [
    "df['amount sold'] = df['amount sold'].str.replace(',', '.')"
   ]
  },
  {
   "cell_type": "code",
   "execution_count": 218,
   "metadata": {},
   "outputs": [
    {
     "data": {
      "text/plain": [
       "0             2.510 \n",
       "1                 0 \n",
       "2             1.071 \n",
       "3             2.372 \n",
       "4             3.908 \n",
       "            ...     \n",
       "6859          2.445 \n",
       "6860    Only 1 left!\n",
       "6861            158 \n",
       "6862              0 \n",
       "6863              0 \n",
       "Name: amount sold, Length: 6864, dtype: object"
      ]
     },
     "execution_count": 218,
     "metadata": {},
     "output_type": "execute_result"
    }
   ],
   "source": [
    "df['amount sold']"
   ]
  },
  {
   "cell_type": "code",
   "execution_count": 219,
   "metadata": {},
   "outputs": [],
   "source": [
    "df['amount sold'] = pd.to_numeric(df['amount sold'], errors='coerce')"
   ]
  },
  {
   "cell_type": "code",
   "execution_count": 220,
   "metadata": {},
   "outputs": [],
   "source": [
    "df['info'] = pd.to_numeric(df['info'], errors='coerce')"
   ]
  },
  {
   "cell_type": "code",
   "execution_count": 221,
   "metadata": {},
   "outputs": [
    {
     "name": "stdout",
     "output_type": "stream",
     "text": [
      "<class 'pandas.core.frame.DataFrame'>\n",
      "RangeIndex: 6864 entries, 0 to 6863\n",
      "Data columns (total 3 columns):\n",
      " #   Column       Non-Null Count  Dtype  \n",
      "---  ------       --------------  -----  \n",
      " 0   product      6864 non-null   object \n",
      " 1   info         3861 non-null   float64\n",
      " 2   amount sold  6435 non-null   float64\n",
      "dtypes: float64(2), object(1)\n",
      "memory usage: 161.0+ KB\n"
     ]
    }
   ],
   "source": [
    "df.info()"
   ]
  },
  {
   "cell_type": "code",
   "execution_count": 222,
   "metadata": {},
   "outputs": [
    {
     "data": {
      "text/html": [
       "<div>\n",
       "<style scoped>\n",
       "    .dataframe tbody tr th:only-of-type {\n",
       "        vertical-align: middle;\n",
       "    }\n",
       "\n",
       "    .dataframe tbody tr th {\n",
       "        vertical-align: top;\n",
       "    }\n",
       "\n",
       "    .dataframe thead th {\n",
       "        text-align: right;\n",
       "    }\n",
       "</style>\n",
       "<table border=\"1\" class=\"dataframe\">\n",
       "  <thead>\n",
       "    <tr style=\"text-align: right;\">\n",
       "      <th></th>\n",
       "      <th>info</th>\n",
       "      <th>amount sold</th>\n",
       "    </tr>\n",
       "  </thead>\n",
       "  <tbody>\n",
       "    <tr>\n",
       "      <th>count</th>\n",
       "      <td>3861.000000</td>\n",
       "      <td>6435.000000</td>\n",
       "    </tr>\n",
       "    <tr>\n",
       "      <th>mean</th>\n",
       "      <td>2371.407407</td>\n",
       "      <td>154.600067</td>\n",
       "    </tr>\n",
       "    <tr>\n",
       "      <th>std</th>\n",
       "      <td>1582.954682</td>\n",
       "      <td>217.705265</td>\n",
       "    </tr>\n",
       "    <tr>\n",
       "      <th>min</th>\n",
       "      <td>698.000000</td>\n",
       "      <td>0.000000</td>\n",
       "    </tr>\n",
       "    <tr>\n",
       "      <th>25%</th>\n",
       "      <td>1399.000000</td>\n",
       "      <td>0.000000</td>\n",
       "    </tr>\n",
       "    <tr>\n",
       "      <th>50%</th>\n",
       "      <td>1900.000000</td>\n",
       "      <td>3.908000</td>\n",
       "    </tr>\n",
       "    <tr>\n",
       "      <th>75%</th>\n",
       "      <td>2595.000000</td>\n",
       "      <td>227.000000</td>\n",
       "    </tr>\n",
       "    <tr>\n",
       "      <th>max</th>\n",
       "      <td>8599.000000</td>\n",
       "      <td>804.000000</td>\n",
       "    </tr>\n",
       "  </tbody>\n",
       "</table>\n",
       "</div>"
      ],
      "text/plain": [
       "              info  amount sold\n",
       "count  3861.000000  6435.000000\n",
       "mean   2371.407407   154.600067\n",
       "std    1582.954682   217.705265\n",
       "min     698.000000     0.000000\n",
       "25%    1399.000000     0.000000\n",
       "50%    1900.000000     3.908000\n",
       "75%    2595.000000   227.000000\n",
       "max    8599.000000   804.000000"
      ]
     },
     "execution_count": 222,
     "metadata": {},
     "output_type": "execute_result"
    }
   ],
   "source": [
    "df.describe()"
   ]
  },
  {
   "cell_type": "code",
   "execution_count": 223,
   "metadata": {},
   "outputs": [
    {
     "data": {
      "image/png": "[encoded data removed]",
      "text/plain": [
       "<Figure size 432x288 with 1 Axes>"
      ]
     },
     "metadata": {
      "needs_background": "light"
     },
     "output_type": "display_data"
    },
    {
     "data": {
      "text/plain": [
       "<AxesSubplot:>"
      ]
     },
     "execution_count": 223,
     "metadata": {},
     "output_type": "execute_result"
    },
    {
     "data": {
      "image/png": "[encoded data removed]",
      "text/plain": [
       "<Figure size 432x288 with 1 Axes>"
      ]
     },
     "metadata": {
      "needs_background": "light"
     },
     "output_type": "display_data"
    }
   ],
   "source": [
    "df['amount sold'].hist()\n",
    "plt.show()\n",
    "df['info'].hist()"
   ]
  },
  {
   "cell_type": "code",
   "execution_count": 224,
   "metadata": {},
   "outputs": [
    {
     "data": {
      "image/png": "[encoded data removed]",
      "text/plain": [
       "<Figure size 432x288 with 1 Axes>"
      ]
     },
     "metadata": {
      "needs_background": "light"
     },
     "output_type": "display_data"
    },
    {
     "data": {
      "image/png": "[encoded data removed]",
      "text/plain": [
       "<Figure size 432x288 with 1 Axes>"
      ]
     },
     "metadata": {
      "needs_background": "light"
     },
     "output_type": "display_data"
    }
   ],
   "source": [
    "sns.boxplot(df['amount sold'])\n",
    "plt.show()\n",
    "sns.boxplot(df['info'])\n",
    "plt.show()"
   ]
  },
  {
   "cell_type": "code",
   "execution_count": 225,
   "metadata": {},
   "outputs": [
    {
     "data": {
      "text/plain": [
       "2000.0    286\n",
       "1999.0    286\n",
       "3499.0    286\n",
       "1250.0    143\n",
       "2595.0    143\n",
       "2500.0    143\n",
       "8599.0    143\n",
       "698.0     143\n",
       "5294.0    143\n",
       "1350.0    143\n",
       "1799.0    143\n",
       "1880.0    143\n",
       "1647.0    143\n",
       "1000.0    143\n",
       "1899.0    143\n",
       "2295.0    143\n",
       "1895.0    143\n",
       "1900.0    143\n",
       "3289.0    143\n",
       "1149.0    143\n",
       "3995.0    143\n",
       "1399.0    143\n",
       "999.0     143\n",
       "1600.0    143\n",
       "Name: info, dtype: int64"
      ]
     },
     "execution_count": 225,
     "metadata": {},
     "output_type": "execute_result"
    }
   ],
   "source": [
    "df['info'].value_counts()"
   ]
  },
  {
   "cell_type": "code",
   "execution_count": 226,
   "metadata": {},
   "outputs": [
    {
     "data": {
      "text/plain": [
       "0.000      1716\n",
       "417.000     143\n",
       "1.674       143\n",
       "1.897       143\n",
       "166.000     143\n",
       "2.943       143\n",
       "356.000     143\n",
       "57.000      143\n",
       "1.464       143\n",
       "423.000     143\n",
       "399.000     143\n",
       "2.510       143\n",
       "162.000     143\n",
       "609.000     143\n",
       "491.000     143\n",
       "804.000     143\n",
       "3.908       143\n",
       "2.708       143\n",
       "50.000      143\n",
       "41.000      143\n",
       "225.000     143\n",
       "283.000     143\n",
       "773.000     143\n",
       "93.000      143\n",
       "429.000     143\n",
       "2.011       143\n",
       "439.000     143\n",
       "115.000     143\n",
       "1.071       143\n",
       "2.372       143\n",
       "158.000     143\n",
       "2.445       143\n",
       "215.000     143\n",
       "227.000     143\n",
       "Name: amount sold, dtype: int64"
      ]
     },
     "execution_count": 226,
     "metadata": {},
     "output_type": "execute_result"
    }
   ],
   "source": [
    "df['amount sold'].value_counts()"
   ]
  },
  {
   "cell_type": "code",
   "execution_count": 227,
   "metadata": {},
   "outputs": [
    {
     "data": {
      "text/html": [
       "<div>\n",
       "<style scoped>\n",
       "    .dataframe tbody tr th:only-of-type {\n",
       "        vertical-align: middle;\n",
       "    }\n",
       "\n",
       "    .dataframe tbody tr th {\n",
       "        vertical-align: top;\n",
       "    }\n",
       "\n",
       "    .dataframe thead th {\n",
       "        text-align: right;\n",
       "    }\n",
       "</style>\n",
       "<table border=\"1\" class=\"dataframe\">\n",
       "  <thead>\n",
       "    <tr style=\"text-align: right;\">\n",
       "      <th></th>\n",
       "      <th>product</th>\n",
       "      <th>info</th>\n",
       "      <th>amount sold</th>\n",
       "    </tr>\n",
       "  </thead>\n",
       "  <tbody>\n",
       "    <tr>\n",
       "      <th>0</th>\n",
       "      <td>False</td>\n",
       "      <td>False</td>\n",
       "      <td>False</td>\n",
       "    </tr>\n",
       "    <tr>\n",
       "      <th>1</th>\n",
       "      <td>False</td>\n",
       "      <td>False</td>\n",
       "      <td>False</td>\n",
       "    </tr>\n",
       "    <tr>\n",
       "      <th>2</th>\n",
       "      <td>False</td>\n",
       "      <td>True</td>\n",
       "      <td>False</td>\n",
       "    </tr>\n",
       "    <tr>\n",
       "      <th>3</th>\n",
       "      <td>False</td>\n",
       "      <td>True</td>\n",
       "      <td>False</td>\n",
       "    </tr>\n",
       "    <tr>\n",
       "      <th>4</th>\n",
       "      <td>False</td>\n",
       "      <td>False</td>\n",
       "      <td>False</td>\n",
       "    </tr>\n",
       "    <tr>\n",
       "      <th>...</th>\n",
       "      <td>...</td>\n",
       "      <td>...</td>\n",
       "      <td>...</td>\n",
       "    </tr>\n",
       "    <tr>\n",
       "      <th>6859</th>\n",
       "      <td>False</td>\n",
       "      <td>True</td>\n",
       "      <td>False</td>\n",
       "    </tr>\n",
       "    <tr>\n",
       "      <th>6860</th>\n",
       "      <td>False</td>\n",
       "      <td>False</td>\n",
       "      <td>True</td>\n",
       "    </tr>\n",
       "    <tr>\n",
       "      <th>6861</th>\n",
       "      <td>False</td>\n",
       "      <td>True</td>\n",
       "      <td>False</td>\n",
       "    </tr>\n",
       "    <tr>\n",
       "      <th>6862</th>\n",
       "      <td>False</td>\n",
       "      <td>False</td>\n",
       "      <td>False</td>\n",
       "    </tr>\n",
       "    <tr>\n",
       "      <th>6863</th>\n",
       "      <td>False</td>\n",
       "      <td>False</td>\n",
       "      <td>False</td>\n",
       "    </tr>\n",
       "  </tbody>\n",
       "</table>\n",
       "<p>6864 rows × 3 columns</p>\n",
       "</div>"
      ],
      "text/plain": [
       "      product   info  amount sold\n",
       "0       False  False        False\n",
       "1       False  False        False\n",
       "2       False   True        False\n",
       "3       False   True        False\n",
       "4       False  False        False\n",
       "...       ...    ...          ...\n",
       "6859    False   True        False\n",
       "6860    False  False         True\n",
       "6861    False   True        False\n",
       "6862    False  False        False\n",
       "6863    False  False        False\n",
       "\n",
       "[6864 rows x 3 columns]"
      ]
     },
     "execution_count": 227,
     "metadata": {},
     "output_type": "execute_result"
    }
   ],
   "source": [
    "df.isnull()"
   ]
  },
  {
   "cell_type": "code",
   "execution_count": 228,
   "metadata": {},
   "outputs": [
    {
     "data": {
      "text/html": [
       "<div>\n",
       "<style scoped>\n",
       "    .dataframe tbody tr th:only-of-type {\n",
       "        vertical-align: middle;\n",
       "    }\n",
       "\n",
       "    .dataframe tbody tr th {\n",
       "        vertical-align: top;\n",
       "    }\n",
       "\n",
       "    .dataframe thead th {\n",
       "        text-align: right;\n",
       "    }\n",
       "</style>\n",
       "<table border=\"1\" class=\"dataframe\">\n",
       "  <thead>\n",
       "    <tr style=\"text-align: right;\">\n",
       "      <th></th>\n",
       "      <th>product</th>\n",
       "      <th>info</th>\n",
       "      <th>amount sold</th>\n",
       "    </tr>\n",
       "  </thead>\n",
       "  <tbody>\n",
       "    <tr>\n",
       "      <th>0</th>\n",
       "      <td>Cinnamon Hemp Oil Drops for Pain Relief, Stres...</td>\n",
       "      <td>1647.0</td>\n",
       "      <td>2.510</td>\n",
       "    </tr>\n",
       "    <tr>\n",
       "      <th>1</th>\n",
       "      <td>Rastarafi® Whole Leaf Irish Moss Sea Moss 1 lb...</td>\n",
       "      <td>2595.0</td>\n",
       "      <td>0.000</td>\n",
       "    </tr>\n",
       "    <tr>\n",
       "      <th>2</th>\n",
       "      <td>EMPTY VEGETARIAN VEGI CELLULOSE  CAPSULES - SI...</td>\n",
       "      <td>NaN</td>\n",
       "      <td>1.071</td>\n",
       "    </tr>\n",
       "    <tr>\n",
       "      <th>3</th>\n",
       "      <td>EMPTY GELATIN CAPSULES SIZE 00 BULK Gel Caps P...</td>\n",
       "      <td>NaN</td>\n",
       "      <td>2.372</td>\n",
       "    </tr>\n",
       "    <tr>\n",
       "      <th>4</th>\n",
       "      <td>Pure Shilajit from Himalaya, Soft Resin, Extre...</td>\n",
       "      <td>2500.0</td>\n",
       "      <td>3.908</td>\n",
       "    </tr>\n",
       "    <tr>\n",
       "      <th>...</th>\n",
       "      <td>...</td>\n",
       "      <td>...</td>\n",
       "      <td>...</td>\n",
       "    </tr>\n",
       "    <tr>\n",
       "      <th>6859</th>\n",
       "      <td>Oxy-Powder Colon Cleanser &amp; Natural Laxative O...</td>\n",
       "      <td>NaN</td>\n",
       "      <td>2.445</td>\n",
       "    </tr>\n",
       "    <tr>\n",
       "      <th>6860</th>\n",
       "      <td>Atrantil (90 Count): Bloating, Abdominal Disco...</td>\n",
       "      <td>3499.0</td>\n",
       "      <td>NaN</td>\n",
       "    </tr>\n",
       "    <tr>\n",
       "      <th>6861</th>\n",
       "      <td>All-Natural Organic Genital/Oral Herpes Cure T...</td>\n",
       "      <td>NaN</td>\n",
       "      <td>158.000</td>\n",
       "    </tr>\n",
       "    <tr>\n",
       "      <th>6862</th>\n",
       "      <td>Scabies Treatment Cream Lotion Medication Natu...</td>\n",
       "      <td>1895.0</td>\n",
       "      <td>0.000</td>\n",
       "    </tr>\n",
       "    <tr>\n",
       "      <th>6863</th>\n",
       "      <td>2 Mariguanol Balsamo Extrafuerte Con Eucalipto</td>\n",
       "      <td>1999.0</td>\n",
       "      <td>0.000</td>\n",
       "    </tr>\n",
       "  </tbody>\n",
       "</table>\n",
       "<p>6864 rows × 3 columns</p>\n",
       "</div>"
      ],
      "text/plain": [
       "                                                product    info  amount sold\n",
       "0     Cinnamon Hemp Oil Drops for Pain Relief, Stres...  1647.0        2.510\n",
       "1     Rastarafi® Whole Leaf Irish Moss Sea Moss 1 lb...  2595.0        0.000\n",
       "2     EMPTY VEGETARIAN VEGI CELLULOSE  CAPSULES - SI...     NaN        1.071\n",
       "3     EMPTY GELATIN CAPSULES SIZE 00 BULK Gel Caps P...     NaN        2.372\n",
       "4     Pure Shilajit from Himalaya, Soft Resin, Extre...  2500.0        3.908\n",
       "...                                                 ...     ...          ...\n",
       "6859  Oxy-Powder Colon Cleanser & Natural Laxative O...     NaN        2.445\n",
       "6860  Atrantil (90 Count): Bloating, Abdominal Disco...  3499.0          NaN\n",
       "6861  All-Natural Organic Genital/Oral Herpes Cure T...     NaN      158.000\n",
       "6862  Scabies Treatment Cream Lotion Medication Natu...  1895.0        0.000\n",
       "6863     2 Mariguanol Balsamo Extrafuerte Con Eucalipto  1999.0        0.000\n",
       "\n",
       "[6864 rows x 3 columns]"
      ]
     },
     "execution_count": 228,
     "metadata": {},
     "output_type": "execute_result"
    }
   ],
   "source": [
    "df"
   ]
  },
  {
   "cell_type": "code",
   "execution_count": 229,
   "metadata": {},
   "outputs": [],
   "source": [
    "datatoexcel = pd.ExcelWriter('FromPython.xlsx', engine='xlsxwriter')"
   ]
  },
  {
   "cell_type": "code",
   "execution_count": 230,
   "metadata": {},
   "outputs": [],
   "source": [
    "df.to_excel(datatoexcel, sheet_name='sheet1')"
   ]
  },
  {
   "cell_type": "code",
   "execution_count": 231,
   "metadata": {},
   "outputs": [],
   "source": [
    "datatoexcel.save()"
   ]
  },
  {
   "cell_type": "code",
   "execution_count": null,
   "metadata": {},
   "outputs": [],
   "source": []
  }
 ],
 "metadata": {
  "kernelspec": {
   "display_name": "Python 3",
   "language": "python",
   "name": "python3"
  },
  "language_info": {
   "codemirror_mode": {
    "name": "ipython",
    "version": 3
   },
   "file_extension": ".py",
   "mimetype": "text/x-python",
   "name": "python",
   "nbconvert_exporter": "python",
   "pygments_lexer": "ipython3",
   "version": "3.7.4"
  }
 },
 "nbformat": 4,
 "nbformat_minor": 2
}
