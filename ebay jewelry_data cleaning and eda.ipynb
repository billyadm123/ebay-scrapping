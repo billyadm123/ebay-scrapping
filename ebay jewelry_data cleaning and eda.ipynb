{
 "cells": [
  {
   "cell_type": "code",
   "execution_count": 1,
   "metadata": {},
   "outputs": [
    {
     "name": "stderr",
     "output_type": "stream",
     "text": [
      "C:\\Users\\willi\\Anaconda3\\lib\\site-packages\\statsmodels\\tools\\_testing.py:19: FutureWarning: pandas.util.testing is deprecated. Use the functions in the public API at pandas.testing instead.\n",
      "  import pandas.util.testing as tm\n"
     ]
    }
   ],
   "source": [
    "from bs4 import BeautifulSoup\n",
    "import requests\n",
    "import pandas as pd\n",
    "import seaborn as sns\n",
    "import numpy as np\n",
    "import matplotlib.pyplot as plt\n",
    "%matplotlib inline"
   ]
  },
  {
   "cell_type": "code",
   "execution_count": 2,
   "metadata": {},
   "outputs": [],
   "source": [
    "url = 'https://www.ebay.com/b/White-Gold-Fine-Jewelry/4196/bn_2194911'"
   ]
  },
  {
   "cell_type": "code",
   "execution_count": 3,
   "metadata": {},
   "outputs": [],
   "source": [
    "source = requests.get(url)"
   ]
  },
  {
   "cell_type": "code",
   "execution_count": 4,
   "metadata": {},
   "outputs": [],
   "source": [
    "soup = BeautifulSoup(source.text, 'html.parser')"
   ]
  },
  {
   "cell_type": "code",
   "execution_count": 5,
   "metadata": {},
   "outputs": [],
   "source": [
    "main_content = soup.find('ul', attrs={'class':'b-list__items_nofooter srp-results srp-grid'})"
   ]
  },
  {
   "cell_type": "code",
   "execution_count": 6,
   "metadata": {},
   "outputs": [
    {
     "data": {
      "text/plain": [
       "144"
      ]
     },
     "execution_count": 6,
     "metadata": {},
     "output_type": "execute_result"
    }
   ],
   "source": [
    "len(main_content)"
   ]
  },
  {
   "cell_type": "code",
   "execution_count": 7,
   "metadata": {},
   "outputs": [],
   "source": [
    "items = main_content.find('div', attrs={'class':'s-item__details clearfix'})"
   ]
  },
  {
   "cell_type": "code",
   "execution_count": 8,
   "metadata": {},
   "outputs": [],
   "source": [
    "product_list = []\n",
    "for i in range(1,145):\n",
    "    source = requests.get('https://www.ebay.com/b/White-Gold-Fine-Jewelry/4196/bn_2194911?_pgn={i}')\n",
    "    for i in main_content.find_all('div', attrs = {'class': 's-item__info clearfix'}):\n",
    "        product = i.find('h3', attrs={'class':'s-item__title'}).text.strip()\n",
    "        info = i.find('span', attrs={'class': 's-item__price'}).text.strip()\n",
    "        try:\n",
    "            sold = i.find('span', attrs={'class':'NEGATIVE'}).text.strip()\n",
    "        except:\n",
    "            sold = 'none sold'\n",
    "        products = {\n",
    "            'product': product,\n",
    "            'info': info,\n",
    "            'amount sold': sold\n",
    "        }\n",
    "        \n",
    "        product_list.append(products)"
   ]
  },
  {
   "cell_type": "code",
   "execution_count": 9,
   "metadata": {},
   "outputs": [],
   "source": [
    "df_orig = pd.DataFrame(product_list)\n",
    "df = df_orig.copy()"
   ]
  },
  {
   "cell_type": "code",
   "execution_count": 10,
   "metadata": {},
   "outputs": [
    {
     "name": "stdout",
     "output_type": "stream",
     "text": [
      "<class 'pandas.core.frame.DataFrame'>\n",
      "RangeIndex: 6912 entries, 0 to 6911\n",
      "Data columns (total 3 columns):\n",
      " #   Column       Non-Null Count  Dtype \n",
      "---  ------       --------------  ----- \n",
      " 0   product      6912 non-null   object\n",
      " 1   info         6912 non-null   object\n",
      " 2   amount sold  6912 non-null   object\n",
      "dtypes: object(3)\n",
      "memory usage: 162.1+ KB\n"
     ]
    }
   ],
   "source": [
    "df.info()"
   ]
  },
  {
   "cell_type": "markdown",
   "metadata": {},
   "source": [
    "# Removing qoutes, dollar symbol, comma, white space, and text for the info and amount sold columns"
   ]
  },
  {
   "cell_type": "code",
   "execution_count": 11,
   "metadata": {},
   "outputs": [],
   "source": [
    "df['info'] = df['info'].replace({'\\$': '', ',': ''}, regex=True).astype(float)"
   ]
  },
  {
   "cell_type": "code",
   "execution_count": 12,
   "metadata": {},
   "outputs": [
    {
     "data": {
      "text/plain": [
       "array(['Only 2 left', '564 sold', '13 sold', '292 sold', 'none sold',\n",
       "       '195 sold', '512 sold', '1,877 sold', 'Only 1 left!', '293 sold',\n",
       "       '4 watching'], dtype=object)"
      ]
     },
     "execution_count": 12,
     "metadata": {},
     "output_type": "execute_result"
    }
   ],
   "source": [
    "df['amount sold'].unique()"
   ]
  },
  {
   "cell_type": "code",
   "execution_count": 13,
   "metadata": {},
   "outputs": [],
   "source": [
    "df.drop(df.loc[df['amount sold'] == 'Only 2 left'].index, inplace=True)\n",
    "df.drop(df.loc[df['amount sold'] == '4 watching'].index, inplace=True)\n",
    "df.drop(df.loc[df['amount sold'] == 'Only 1 left!'].index, inplace=True)\n",
    "df.drop(df.loc[df['amount sold'] == 'Benefits charity'].index, inplace=True)"
   ]
  },
  {
   "cell_type": "code",
   "execution_count": 14,
   "metadata": {},
   "outputs": [],
   "source": [
    "df['amount sold'] = df['amount sold'].str.strip('')"
   ]
  },
  {
   "cell_type": "code",
   "execution_count": 15,
   "metadata": {},
   "outputs": [],
   "source": [
    "df['amount sold'] = df['amount sold'].str.replace(',','')"
   ]
  },
  {
   "cell_type": "code",
   "execution_count": 16,
   "metadata": {},
   "outputs": [],
   "source": [
    "df['amount sold'] = df['amount sold'].str.strip('sold').str.replace('none', '0')"
   ]
  },
  {
   "cell_type": "code",
   "execution_count": 17,
   "metadata": {},
   "outputs": [],
   "source": [
    "df['amount sold'] = df['amount sold'].str.strip()"
   ]
  },
  {
   "cell_type": "code",
   "execution_count": 18,
   "metadata": {},
   "outputs": [
    {
     "data": {
      "text/plain": [
       "array(['564', '13', '292', '0', '195', '512', '1877', '293'], dtype=object)"
      ]
     },
     "execution_count": 18,
     "metadata": {},
     "output_type": "execute_result"
    }
   ],
   "source": [
    "df['amount sold'].unique()"
   ]
  },
  {
   "cell_type": "code",
   "execution_count": 19,
   "metadata": {},
   "outputs": [],
   "source": [
    "df['amount sold'] = df['amount sold'].astype(float)"
   ]
  },
  {
   "cell_type": "code",
   "execution_count": 20,
   "metadata": {},
   "outputs": [
    {
     "name": "stdout",
     "output_type": "stream",
     "text": [
      "<class 'pandas.core.frame.DataFrame'>\n",
      "Int64Index: 6192 entries, 1 to 6909\n",
      "Data columns (total 3 columns):\n",
      " #   Column       Non-Null Count  Dtype  \n",
      "---  ------       --------------  -----  \n",
      " 0   product      6192 non-null   object \n",
      " 1   info         6192 non-null   float64\n",
      " 2   amount sold  6192 non-null   float64\n",
      "dtypes: float64(2), object(1)\n",
      "memory usage: 353.5+ KB\n"
     ]
    }
   ],
   "source": [
    "df.info()"
   ]
  },
  {
   "cell_type": "code",
   "execution_count": 21,
   "metadata": {},
   "outputs": [
    {
     "data": {
      "image/png": "[encoded data removed]",
      "text/plain": [
       "<Figure size 432x288 with 1 Axes>"
      ]
     },
     "metadata": {
      "needs_background": "light"
     },
     "output_type": "display_data"
    },
    {
     "data": {
      "image/png": "[encoded data removed]",
      "text/plain": [
       "<Figure size 432x288 with 1 Axes>"
      ]
     },
     "metadata": {
      "needs_background": "light"
     },
     "output_type": "display_data"
    }
   ],
   "source": [
    "plt.hist(df['info'])\n",
    "plt.show()\n",
    "plt.hist(df['amount sold'])\n",
    "plt.show()"
   ]
  },
  {
   "cell_type": "markdown",
   "metadata": {},
   "source": [
    "# White Gold has been used as an alias for ivory"
   ]
  },
  {
   "cell_type": "code",
   "execution_count": 22,
   "metadata": {},
   "outputs": [],
   "source": [
    "white_gold = df[df['product'].str.contains('White Gold')]"
   ]
  },
  {
   "cell_type": "code",
   "execution_count": 23,
   "metadata": {},
   "outputs": [
    {
     "name": "stdout",
     "output_type": "stream",
     "text": [
      "<class 'pandas.core.frame.DataFrame'>\n",
      "Int64Index: 4032 entries, 1 to 6909\n",
      "Data columns (total 3 columns):\n",
      " #   Column       Non-Null Count  Dtype  \n",
      "---  ------       --------------  -----  \n",
      " 0   product      4032 non-null   object \n",
      " 1   info         4032 non-null   float64\n",
      " 2   amount sold  4032 non-null   float64\n",
      "dtypes: float64(2), object(1)\n",
      "memory usage: 126.0+ KB\n"
     ]
    }
   ],
   "source": [
    "white_gold.info()"
   ]
  },
  {
   "cell_type": "code",
   "execution_count": 34,
   "metadata": {},
   "outputs": [
    {
     "data": {
      "image/png": "[encoded data removed]",
      "text/plain": [
       "<Figure size 432x288 with 1 Axes>"
      ]
     },
     "metadata": {
      "needs_background": "light"
     },
     "output_type": "display_data"
    }
   ],
   "source": [
    "sns.boxplot(df['info'])\n",
    "plt.show()"
   ]
  },
  {
   "cell_type": "code",
   "execution_count": 35,
   "metadata": {},
   "outputs": [
    {
     "data": {
      "text/plain": [
       "array(['1 ct Round Diamond Stud Earrings 14K White Gold (1 ct, I Color, I2-I3 Clarity)',\n",
       "       '2 Ct Round Brilliant Cut Pendant 16+2 Solid 14k White Gold Solitaire Necklace',\n",
       "       'Vintage 10k White Gold Emerald and Princes Cut Pink Sapphire & Diamond Ring SZ 7',\n",
       "       'Brilliant Round 2.00 Carat Solitaire Diamond Earrings Stud Solid 14K White Gold',\n",
       "       '1/2ct Real (Natural) Round Diamond Solitaire Stud Earring set in 14K White Gold',\n",
       "       '14K White Gold Tanzanite & Diamond Anniversary Band',\n",
       "       '18 Karat White Gold Sapphire, Ruby And Diamond Butterfly Ring',\n",
       "       'Estate Gemstone Solid Gold Band Ring 14k White Gold 585 14kt Not Scrap 2.3gr 9',\n",
       "       '(306) 18k White Gold filled Ring 7',\n",
       "       'Aquamarine Diamond Ring 14K White Gold Fine Jewelry Halo Split Shank Size 6.5',\n",
       "       '.88 CT Ruby And Diamond Ring In 18KT White Gold',\n",
       "       '14k London Blue Topaz Yellow And White Gold Cocktail Ring',\n",
       "       'Mint Green Garnet and Diamond Ring In 14KT White Gold',\n",
       "       '10kt White Gold Round White Topaz Ring',\n",
       "       'Natural Trillion Cut Tanzanite Diamond White Gold WIDE Jewelry Ring 14Kt 4.00Ct',\n",
       "       '1.70cts Blue and White Diamonds Set In 10k White Gold, Sz7',\n",
       "       'Genuine Opal and Diamond Starburst Design 10K White Gold Ring',\n",
       "       \"NWOT $3600 Effy Diamond and Ruby 14K White Gold Ring 1.47 TCW Macy's\",\n",
       "       '10kt White Gold Lab Created Blue & White Sapphire Ring',\n",
       "       '10K White Gold Cushion Cut Blue Topaz & Round White Topaz Ring',\n",
       "       'SAI 10kt White Gold Cushion Cut Lab Created Sapphire & Diamond Halo Ring',\n",
       "       'Estate 14k White Gold Round 3ctw Sapphire & Diamond Flower Cluster Ring Sz 7.5',\n",
       "       '10kt White Gold Lab Created Ruby & White Sapphire Ring',\n",
       "       \"10k White Gold Blue & White Topaz Women's Ring\",\n",
       "       '10kt White Gold Oval Sapphire & Round Diamond Accents Ring',\n",
       "       '5.11 Carat Natural Tanzanite 14K Solid White Gold Diamond Ring',\n",
       "       '10kt White Gold Lab Created Tanzanite & White Topaz Halo Ring',\n",
       "       '5 CT Blue Sapphire Gemstone Pendant Necklace in 18K White Gold 18\" Inches ITAL'],\n",
       "      dtype=object)"
      ]
     },
     "execution_count": 35,
     "metadata": {},
     "output_type": "execute_result"
    }
   ],
   "source": [
    "white_gold['product'].unique()"
   ]
  },
  {
   "cell_type": "code",
   "execution_count": 36,
   "metadata": {},
   "outputs": [
    {
     "name": "stderr",
     "output_type": "stream",
     "text": [
      "C:\\Users\\willi\\Anaconda3\\lib\\site-packages\\pandas\\core\\strings.py:2001: UserWarning: This pattern has match groups. To actually get the groups, use str.extract.\n",
      "  return func(self, *args, **kwargs)\n"
     ]
    }
   ],
   "source": [
    "natural = white_gold[white_gold['product'].str.contains('(Natural)')]"
   ]
  },
  {
   "cell_type": "code",
   "execution_count": 29,
   "metadata": {},
   "outputs": [
    {
     "data": {
      "text/html": [
       "<div>\n",
       "<style scoped>\n",
       "    .dataframe tbody tr th:only-of-type {\n",
       "        vertical-align: middle;\n",
       "    }\n",
       "\n",
       "    .dataframe tbody tr th {\n",
       "        vertical-align: top;\n",
       "    }\n",
       "\n",
       "    .dataframe thead th {\n",
       "        text-align: right;\n",
       "    }\n",
       "</style>\n",
       "<table border=\"1\" class=\"dataframe\">\n",
       "  <thead>\n",
       "    <tr style=\"text-align: right;\">\n",
       "      <th></th>\n",
       "      <th>info</th>\n",
       "      <th>amount sold</th>\n",
       "    </tr>\n",
       "  </thead>\n",
       "  <tbody>\n",
       "    <tr>\n",
       "      <th>count</th>\n",
       "      <td>4032.000000</td>\n",
       "      <td>4032.000000</td>\n",
       "    </tr>\n",
       "    <tr>\n",
       "      <th>mean</th>\n",
       "      <td>715.168571</td>\n",
       "      <td>66.285714</td>\n",
       "    </tr>\n",
       "    <tr>\n",
       "      <th>std</th>\n",
       "      <td>980.818854</td>\n",
       "      <td>154.286031</td>\n",
       "    </tr>\n",
       "    <tr>\n",
       "      <th>min</th>\n",
       "      <td>9.990000</td>\n",
       "      <td>0.000000</td>\n",
       "    </tr>\n",
       "    <tr>\n",
       "      <th>25%</th>\n",
       "      <td>153.992500</td>\n",
       "      <td>0.000000</td>\n",
       "    </tr>\n",
       "    <tr>\n",
       "      <th>50%</th>\n",
       "      <td>248.500000</td>\n",
       "      <td>0.000000</td>\n",
       "    </tr>\n",
       "    <tr>\n",
       "      <th>75%</th>\n",
       "      <td>818.750000</td>\n",
       "      <td>0.000000</td>\n",
       "    </tr>\n",
       "    <tr>\n",
       "      <th>max</th>\n",
       "      <td>3700.000000</td>\n",
       "      <td>564.000000</td>\n",
       "    </tr>\n",
       "  </tbody>\n",
       "</table>\n",
       "</div>"
      ],
      "text/plain": [
       "              info  amount sold\n",
       "count  4032.000000  4032.000000\n",
       "mean    715.168571    66.285714\n",
       "std     980.818854   154.286031\n",
       "min       9.990000     0.000000\n",
       "25%     153.992500     0.000000\n",
       "50%     248.500000     0.000000\n",
       "75%     818.750000     0.000000\n",
       "max    3700.000000   564.000000"
      ]
     },
     "execution_count": 29,
     "metadata": {},
     "output_type": "execute_result"
    }
   ],
   "source": [
    "white_gold.describe()"
   ]
  },
  {
   "cell_type": "code",
   "execution_count": 33,
   "metadata": {},
   "outputs": [
    {
     "data": {
      "text/html": [
       "<div>\n",
       "<style scoped>\n",
       "    .dataframe tbody tr th:only-of-type {\n",
       "        vertical-align: middle;\n",
       "    }\n",
       "\n",
       "    .dataframe tbody tr th {\n",
       "        vertical-align: top;\n",
       "    }\n",
       "\n",
       "    .dataframe thead th {\n",
       "        text-align: right;\n",
       "    }\n",
       "</style>\n",
       "<table border=\"1\" class=\"dataframe\">\n",
       "  <thead>\n",
       "    <tr style=\"text-align: right;\">\n",
       "      <th></th>\n",
       "      <th>info</th>\n",
       "      <th>amount sold</th>\n",
       "    </tr>\n",
       "  </thead>\n",
       "  <tbody>\n",
       "    <tr>\n",
       "      <th>count</th>\n",
       "      <td>432.000000</td>\n",
       "      <td>432.000000</td>\n",
       "    </tr>\n",
       "    <tr>\n",
       "      <th>mean</th>\n",
       "      <td>2132.983333</td>\n",
       "      <td>170.666667</td>\n",
       "    </tr>\n",
       "    <tr>\n",
       "      <th>std</th>\n",
       "      <td>1454.351615</td>\n",
       "      <td>241.638951</td>\n",
       "    </tr>\n",
       "    <tr>\n",
       "      <th>min</th>\n",
       "      <td>198.950000</td>\n",
       "      <td>0.000000</td>\n",
       "    </tr>\n",
       "    <tr>\n",
       "      <th>25%</th>\n",
       "      <td>198.950000</td>\n",
       "      <td>0.000000</td>\n",
       "    </tr>\n",
       "    <tr>\n",
       "      <th>50%</th>\n",
       "      <td>2500.000000</td>\n",
       "      <td>0.000000</td>\n",
       "    </tr>\n",
       "    <tr>\n",
       "      <th>75%</th>\n",
       "      <td>3700.000000</td>\n",
       "      <td>512.000000</td>\n",
       "    </tr>\n",
       "    <tr>\n",
       "      <th>max</th>\n",
       "      <td>3700.000000</td>\n",
       "      <td>512.000000</td>\n",
       "    </tr>\n",
       "  </tbody>\n",
       "</table>\n",
       "</div>"
      ],
      "text/plain": [
       "              info  amount sold\n",
       "count   432.000000   432.000000\n",
       "mean   2132.983333   170.666667\n",
       "std    1454.351615   241.638951\n",
       "min     198.950000     0.000000\n",
       "25%     198.950000     0.000000\n",
       "50%    2500.000000     0.000000\n",
       "75%    3700.000000   512.000000\n",
       "max    3700.000000   512.000000"
      ]
     },
     "execution_count": 33,
     "metadata": {},
     "output_type": "execute_result"
    }
   ],
   "source": [
    "natural.describe()"
   ]
  },
  {
   "cell_type": "code",
   "execution_count": 32,
   "metadata": {},
   "outputs": [],
   "source": [
    "outliers = white_gold[white_gold['info'] >= 1500 ]"
   ]
  },
  {
   "cell_type": "code",
   "execution_count": 37,
   "metadata": {},
   "outputs": [],
   "source": [
    "natural_outliers = natural[natural['info'] >= 1500]"
   ]
  },
  {
   "cell_type": "code",
   "execution_count": 65,
   "metadata": {},
   "outputs": [
    {
     "name": "stdout",
     "output_type": "stream",
     "text": [
      "['.88 CT Ruby And Diamond Ring In 18KT White Gold'\n",
      " 'Mint Green Garnet and Diamond Ring In 14KT White Gold'\n",
      " 'Natural Trillion Cut Tanzanite Diamond White Gold WIDE Jewelry Ring 14Kt 4.00Ct'\n",
      " '5.11 Carat Natural Tanzanite 14K Solid White Gold Diamond Ring']\n",
      "[1500. 3500. 2500. 3700.]\n"
     ]
    }
   ],
   "source": [
    "print(outliers['product'].unique())\n",
    "print(outliers['info'].unique())"
   ]
  },
  {
   "cell_type": "code",
   "execution_count": 66,
   "metadata": {},
   "outputs": [
    {
     "name": "stdout",
     "output_type": "stream",
     "text": [
      "['Natural Trillion Cut Tanzanite Diamond White Gold WIDE Jewelry Ring 14Kt 4.00Ct'\n",
      " '5.11 Carat Natural Tanzanite 14K Solid White Gold Diamond Ring']\n",
      "[2500. 3700.]\n"
     ]
    }
   ],
   "source": [
    "print(natural_outliers['product'].unique())\n",
    "print(natural_outliers['info'].unique())"
   ]
  },
  {
   "cell_type": "code",
   "execution_count": 67,
   "metadata": {},
   "outputs": [],
   "source": [
    "\n",
    "\n",
    "writer = pd.ExcelWriter('eBay_jewelry_analysis.xlsx', engine='xlsxwriter')\n",
    "\n",
    "# Write each dataframe to a different worksheet.\n",
    "df.to_excel(writer, sheet_name='Sheet1')\n",
    "white_gold.to_excel(writer, sheet_name='Sheet2')\n",
    "natural.to_excel(writer, sheet_name='Sheet3')\n",
    "outliers.to_excel(writer, sheet_name='Sheet3')\n",
    "natural_outliers.to_excel(writer, sheet_name='Sheet3')\n",
    "\n",
    "# Close the Pandas Excel writer and output the Excel file.\n",
    "writer.save()"
   ]
  },
  {
   "cell_type": "code",
   "execution_count": null,
   "metadata": {},
   "outputs": [],
   "source": []
  }
 ],
 "metadata": {
  "kernelspec": {
   "display_name": "Python 3",
   "language": "python",
   "name": "python3"
  },
  "language_info": {
   "codemirror_mode": {
    "name": "ipython",
    "version": 3
   },
   "file_extension": ".py",
   "mimetype": "text/x-python",
   "name": "python",
   "nbconvert_exporter": "python",
   "pygments_lexer": "ipython3",
   "version": "3.7.4"
  }
 },
 "nbformat": 4,
 "nbformat_minor": 2
}
